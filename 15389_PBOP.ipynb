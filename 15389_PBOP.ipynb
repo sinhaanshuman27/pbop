{
 "cells": [
  {
   "cell_type": "markdown",
   "metadata": {},
   "source": [
    "## Importing modules and dataset"
   ]
  },
  {
   "cell_type": "code",
   "execution_count": 1,
   "metadata": {},
   "outputs": [],
   "source": [
    "import pandas as pd\n",
    "import numpy as np\n",
    "import plotly.express as px\n",
    "import seaborn as sns\n",
    "import matplotlib.pyplot as plt\n",
    "from tqdm import tqdm\n",
    "from sklearn.preprocessing import LabelEncoder\n",
    "\n",
    "import warnings\n",
    "warnings.filterwarnings('ignore')"
   ]
  },
  {
   "cell_type": "code",
   "execution_count": 2,
   "metadata": {},
   "outputs": [],
   "source": [
    "data = pd.read_csv(\"15389_dataset.TXT\", delimiter = '\\t')"
   ]
  },
  {
   "cell_type": "code",
   "execution_count": 3,
   "metadata": {},
   "outputs": [
    {
     "data": {
      "text/html": [
       "<div>\n",
       "<style scoped>\n",
       "    .dataframe tbody tr th:only-of-type {\n",
       "        vertical-align: middle;\n",
       "    }\n",
       "\n",
       "    .dataframe tbody tr th {\n",
       "        vertical-align: top;\n",
       "    }\n",
       "\n",
       "    .dataframe thead th {\n",
       "        text-align: right;\n",
       "    }\n",
       "</style>\n",
       "<table border=\"1\" class=\"dataframe\">\n",
       "  <thead>\n",
       "    <tr style=\"text-align: right;\">\n",
       "      <th></th>\n",
       "      <th>CUSTOMER_ORDER_ID</th>\n",
       "      <th>SALES_ORG</th>\n",
       "      <th>DISTRIBUTION_CHANNEL</th>\n",
       "      <th>DIVISION</th>\n",
       "      <th>RELEASED_CREDIT_VALUE</th>\n",
       "      <th>PURCHASE_ORDER_TYPE</th>\n",
       "      <th>COMPANY_CODE</th>\n",
       "      <th>ORDER_CREATION_DATE</th>\n",
       "      <th>ORDER_CREATION_TIME</th>\n",
       "      <th>CREDIT_CONTROL_AREA</th>\n",
       "      <th>SOLD_TO_PARTY</th>\n",
       "      <th>ORDER_AMOUNT</th>\n",
       "      <th>REQUESTED_DELIVERY_DATE</th>\n",
       "      <th>ORDER_CURRENCY</th>\n",
       "      <th>ORDER_STATUS</th>\n",
       "      <th>CUSTOMER_NUMBER</th>\n",
       "    </tr>\n",
       "  </thead>\n",
       "  <tbody>\n",
       "    <tr>\n",
       "      <th>0</th>\n",
       "      <td>1</td>\n",
       "      <td>DEC1</td>\n",
       "      <td>1</td>\n",
       "      <td>1</td>\n",
       "      <td>0.0</td>\n",
       "      <td>NaN</td>\n",
       "      <td>DEC1</td>\n",
       "      <td>20110404</td>\n",
       "      <td>85332</td>\n",
       "      <td>ZZC0</td>\n",
       "      <td>8421000</td>\n",
       "      <td>1793.95</td>\n",
       "      <td>20110404</td>\n",
       "      <td>EUR</td>\n",
       "      <td>NaN</td>\n",
       "      <td>8421000</td>\n",
       "    </tr>\n",
       "    <tr>\n",
       "      <th>1</th>\n",
       "      <td>2</td>\n",
       "      <td>DEC1</td>\n",
       "      <td>1</td>\n",
       "      <td>1</td>\n",
       "      <td>0.0</td>\n",
       "      <td>NaN</td>\n",
       "      <td>DEC1</td>\n",
       "      <td>20110404</td>\n",
       "      <td>85501</td>\n",
       "      <td>ZZC0</td>\n",
       "      <td>37</td>\n",
       "      <td>184.11</td>\n",
       "      <td>20110404</td>\n",
       "      <td>EUR</td>\n",
       "      <td>NaN</td>\n",
       "      <td>37</td>\n",
       "    </tr>\n",
       "    <tr>\n",
       "      <th>2</th>\n",
       "      <td>3</td>\n",
       "      <td>DEC1</td>\n",
       "      <td>1</td>\n",
       "      <td>1</td>\n",
       "      <td>0.0</td>\n",
       "      <td>NaN</td>\n",
       "      <td>DEC1</td>\n",
       "      <td>20110404</td>\n",
       "      <td>85942</td>\n",
       "      <td>ZZC0</td>\n",
       "      <td>101</td>\n",
       "      <td>1300.3</td>\n",
       "      <td>20110404</td>\n",
       "      <td>EUR</td>\n",
       "      <td>NaN</td>\n",
       "      <td>101</td>\n",
       "    </tr>\n",
       "    <tr>\n",
       "      <th>3</th>\n",
       "      <td>4</td>\n",
       "      <td>DEC1</td>\n",
       "      <td>1</td>\n",
       "      <td>1</td>\n",
       "      <td>0.0</td>\n",
       "      <td>NaN</td>\n",
       "      <td>DEC1</td>\n",
       "      <td>20110404</td>\n",
       "      <td>85810</td>\n",
       "      <td>ZZC0</td>\n",
       "      <td>4141000</td>\n",
       "      <td>569.09</td>\n",
       "      <td>20110404</td>\n",
       "      <td>EUR</td>\n",
       "      <td>NaN</td>\n",
       "      <td>4141000</td>\n",
       "    </tr>\n",
       "    <tr>\n",
       "      <th>4</th>\n",
       "      <td>5</td>\n",
       "      <td>DEC1</td>\n",
       "      <td>1</td>\n",
       "      <td>1</td>\n",
       "      <td>0.0</td>\n",
       "      <td>NaN</td>\n",
       "      <td>DEC1</td>\n",
       "      <td>20110404</td>\n",
       "      <td>85457</td>\n",
       "      <td>ZZC0</td>\n",
       "      <td>829</td>\n",
       "      <td>33.8</td>\n",
       "      <td>20110411</td>\n",
       "      <td>EUR</td>\n",
       "      <td>NaN</td>\n",
       "      <td>829</td>\n",
       "    </tr>\n",
       "  </tbody>\n",
       "</table>\n",
       "</div>"
      ],
      "text/plain": [
       "  CUSTOMER_ORDER_ID SALES_ORG  DISTRIBUTION_CHANNEL  DIVISION  \\\n",
       "0                 1      DEC1                     1         1   \n",
       "1                 2      DEC1                     1         1   \n",
       "2                 3      DEC1                     1         1   \n",
       "3                 4      DEC1                     1         1   \n",
       "4                 5      DEC1                     1         1   \n",
       "\n",
       "  RELEASED_CREDIT_VALUE PURCHASE_ORDER_TYPE COMPANY_CODE  ORDER_CREATION_DATE  \\\n",
       "0                   0.0                 NaN         DEC1             20110404   \n",
       "1                   0.0                 NaN         DEC1             20110404   \n",
       "2                   0.0                 NaN         DEC1             20110404   \n",
       "3                   0.0                 NaN         DEC1             20110404   \n",
       "4                   0.0                 NaN         DEC1             20110404   \n",
       "\n",
       "   ORDER_CREATION_TIME CREDIT_CONTROL_AREA SOLD_TO_PARTY ORDER_AMOUNT  \\\n",
       "0                85332                ZZC0       8421000      1793.95   \n",
       "1                85501                ZZC0            37       184.11   \n",
       "2                85942                ZZC0           101       1300.3   \n",
       "3                85810                ZZC0       4141000       569.09   \n",
       "4                85457                ZZC0           829         33.8   \n",
       "\n",
       "   REQUESTED_DELIVERY_DATE ORDER_CURRENCY ORDER_STATUS CUSTOMER_NUMBER  \n",
       "0                 20110404            EUR          NaN         8421000  \n",
       "1                 20110404            EUR          NaN              37  \n",
       "2                 20110404            EUR          NaN             101  \n",
       "3                 20110404            EUR          NaN         4141000  \n",
       "4                 20110411            EUR          NaN             829  "
      ]
     },
     "execution_count": 3,
     "metadata": {},
     "output_type": "execute_result"
    }
   ],
   "source": [
    "data.head()"
   ]
  },
  {
   "cell_type": "code",
   "execution_count": 4,
   "metadata": {},
   "outputs": [
    {
     "data": {
      "text/plain": [
       "(460737, 16)"
      ]
     },
     "execution_count": 4,
     "metadata": {},
     "output_type": "execute_result"
    }
   ],
   "source": [
    "data.shape"
   ]
  },
  {
   "cell_type": "markdown",
   "metadata": {},
   "source": [
    "### Dropping few columns based on null values and number of unique values"
   ]
  },
  {
   "cell_type": "code",
   "execution_count": 5,
   "metadata": {},
   "outputs": [
    {
     "data": {
      "text/plain": [
       "CUSTOMER_ORDER_ID               0\n",
       "SALES_ORG                       0\n",
       "DISTRIBUTION_CHANNEL            0\n",
       "DIVISION                        0\n",
       "RELEASED_CREDIT_VALUE           0\n",
       "PURCHASE_ORDER_TYPE        370379\n",
       "COMPANY_CODE                    0\n",
       "ORDER_CREATION_DATE             0\n",
       "ORDER_CREATION_TIME             0\n",
       "CREDIT_CONTROL_AREA         13944\n",
       "SOLD_TO_PARTY                   0\n",
       "ORDER_AMOUNT                    0\n",
       "REQUESTED_DELIVERY_DATE         0\n",
       "ORDER_CURRENCY                  0\n",
       "ORDER_STATUS               434933\n",
       "CUSTOMER_NUMBER                 0\n",
       "dtype: int64"
      ]
     },
     "execution_count": 5,
     "metadata": {},
     "output_type": "execute_result"
    }
   ],
   "source": [
    "data.isna().sum()"
   ]
  },
  {
   "cell_type": "code",
   "execution_count": 6,
   "metadata": {},
   "outputs": [],
   "source": [
    "data.drop(columns=['PURCHASE_ORDER_TYPE', 'ORDER_STATUS'], inplace=True)"
   ]
  },
  {
   "cell_type": "code",
   "execution_count": 7,
   "metadata": {},
   "outputs": [
    {
     "data": {
      "text/plain": [
       "CUSTOMER_ORDER_ID          460737\n",
       "SALES_ORG                       4\n",
       "DISTRIBUTION_CHANNEL            1\n",
       "DIVISION                        1\n",
       "RELEASED_CREDIT_VALUE       44409\n",
       "COMPANY_CODE                    4\n",
       "ORDER_CREATION_DATE          3350\n",
       "ORDER_CREATION_TIME         63191\n",
       "CREDIT_CONTROL_AREA             2\n",
       "SOLD_TO_PARTY                3114\n",
       "ORDER_AMOUNT               201569\n",
       "REQUESTED_DELIVERY_DATE      3406\n",
       "ORDER_CURRENCY                  3\n",
       "CUSTOMER_NUMBER              3122\n",
       "dtype: int64"
      ]
     },
     "execution_count": 7,
     "metadata": {},
     "output_type": "execute_result"
    }
   ],
   "source": [
    "data.nunique()"
   ]
  },
  {
   "cell_type": "code",
   "execution_count": 8,
   "metadata": {},
   "outputs": [],
   "source": [
    "data.drop(columns=['CUSTOMER_ORDER_ID', 'SALES_ORG', 'DISTRIBUTION_CHANNEL', 'DIVISION', 'CREDIT_CONTROL_AREA'], inplace=True)"
   ]
  },
  {
   "cell_type": "code",
   "execution_count": 9,
   "metadata": {},
   "outputs": [
    {
     "data": {
      "text/plain": [
       "RELEASED_CREDIT_VALUE       44409\n",
       "COMPANY_CODE                    4\n",
       "ORDER_CREATION_DATE          3350\n",
       "ORDER_CREATION_TIME         63191\n",
       "SOLD_TO_PARTY                3114\n",
       "ORDER_AMOUNT               201569\n",
       "REQUESTED_DELIVERY_DATE      3406\n",
       "ORDER_CURRENCY                  3\n",
       "CUSTOMER_NUMBER              3122\n",
       "dtype: int64"
      ]
     },
     "execution_count": 9,
     "metadata": {},
     "output_type": "execute_result"
    }
   ],
   "source": [
    "data.nunique()"
   ]
  },
  {
   "cell_type": "markdown",
   "metadata": {},
   "source": [
    "### Data types conversion"
   ]
  },
  {
   "cell_type": "code",
   "execution_count": 10,
   "metadata": {},
   "outputs": [
    {
     "data": {
      "text/plain": [
       "RELEASED_CREDIT_VALUE      object\n",
       "COMPANY_CODE               object\n",
       "ORDER_CREATION_DATE         int64\n",
       "ORDER_CREATION_TIME         int64\n",
       "SOLD_TO_PARTY              object\n",
       "ORDER_AMOUNT               object\n",
       "REQUESTED_DELIVERY_DATE     int64\n",
       "ORDER_CURRENCY             object\n",
       "CUSTOMER_NUMBER            object\n",
       "dtype: object"
      ]
     },
     "execution_count": 10,
     "metadata": {},
     "output_type": "execute_result"
    }
   ],
   "source": [
    "data.dtypes"
   ]
  },
  {
   "cell_type": "code",
   "execution_count": 11,
   "metadata": {},
   "outputs": [],
   "source": [
    "data=data.loc[data['REQUESTED_DELIVERY_DATE']!=0]"
   ]
  },
  {
   "cell_type": "code",
   "execution_count": 12,
   "metadata": {},
   "outputs": [],
   "source": [
    "data['REQUESTED_DELIVERY_DATE']=data['REQUESTED_DELIVERY_DATE'].apply(lambda x:str(x).replace('9201', '2019'))"
   ]
  },
  {
   "cell_type": "code",
   "execution_count": 13,
   "metadata": {},
   "outputs": [],
   "source": [
    "data['ORDER_CREATION_DATE'] = pd.to_datetime(data['ORDER_CREATION_DATE'], format = \"%Y%m%d\" )\n",
    "data['REQUESTED_DELIVERY_DATE']=pd.to_datetime(data['REQUESTED_DELIVERY_DATE'], format = \"%Y%m%d\")"
   ]
  },
  {
   "cell_type": "code",
   "execution_count": 14,
   "metadata": {},
   "outputs": [],
   "source": [
    "data['ORDER_AMOUNT'] = [str(i).replace(\"-\", \"\") for i in data['ORDER_AMOUNT']]\n",
    "data['ORDER_AMOUNT'] = data['ORDER_AMOUNT'].astype(float)"
   ]
  },
  {
   "cell_type": "code",
   "execution_count": 15,
   "metadata": {},
   "outputs": [
    {
     "data": {
      "text/plain": [
       "RELEASED_CREDIT_VALUE              object\n",
       "COMPANY_CODE                       object\n",
       "ORDER_CREATION_DATE        datetime64[ns]\n",
       "ORDER_CREATION_TIME                 int64\n",
       "SOLD_TO_PARTY                      object\n",
       "ORDER_AMOUNT                      float64\n",
       "REQUESTED_DELIVERY_DATE    datetime64[ns]\n",
       "ORDER_CURRENCY                     object\n",
       "CUSTOMER_NUMBER                    object\n",
       "dtype: object"
      ]
     },
     "execution_count": 15,
     "metadata": {},
     "output_type": "execute_result"
    }
   ],
   "source": [
    "data.dtypes"
   ]
  },
  {
   "cell_type": "code",
   "execution_count": 16,
   "metadata": {},
   "outputs": [
    {
     "data": {
      "text/html": [
       "<div>\n",
       "<style scoped>\n",
       "    .dataframe tbody tr th:only-of-type {\n",
       "        vertical-align: middle;\n",
       "    }\n",
       "\n",
       "    .dataframe tbody tr th {\n",
       "        vertical-align: top;\n",
       "    }\n",
       "\n",
       "    .dataframe thead th {\n",
       "        text-align: right;\n",
       "    }\n",
       "</style>\n",
       "<table border=\"1\" class=\"dataframe\">\n",
       "  <thead>\n",
       "    <tr style=\"text-align: right;\">\n",
       "      <th></th>\n",
       "      <th>RELEASED_CREDIT_VALUE</th>\n",
       "      <th>COMPANY_CODE</th>\n",
       "      <th>ORDER_CREATION_DATE</th>\n",
       "      <th>ORDER_CREATION_TIME</th>\n",
       "      <th>SOLD_TO_PARTY</th>\n",
       "      <th>ORDER_AMOUNT</th>\n",
       "      <th>REQUESTED_DELIVERY_DATE</th>\n",
       "      <th>ORDER_CURRENCY</th>\n",
       "      <th>CUSTOMER_NUMBER</th>\n",
       "    </tr>\n",
       "  </thead>\n",
       "  <tbody>\n",
       "    <tr>\n",
       "      <th>0</th>\n",
       "      <td>0.0</td>\n",
       "      <td>DEC1</td>\n",
       "      <td>2011-04-04</td>\n",
       "      <td>85332</td>\n",
       "      <td>8421000</td>\n",
       "      <td>1793.95</td>\n",
       "      <td>2011-04-04</td>\n",
       "      <td>EUR</td>\n",
       "      <td>8421000</td>\n",
       "    </tr>\n",
       "    <tr>\n",
       "      <th>1</th>\n",
       "      <td>0.0</td>\n",
       "      <td>DEC1</td>\n",
       "      <td>2011-04-04</td>\n",
       "      <td>85501</td>\n",
       "      <td>37</td>\n",
       "      <td>184.11</td>\n",
       "      <td>2011-04-04</td>\n",
       "      <td>EUR</td>\n",
       "      <td>37</td>\n",
       "    </tr>\n",
       "    <tr>\n",
       "      <th>2</th>\n",
       "      <td>0.0</td>\n",
       "      <td>DEC1</td>\n",
       "      <td>2011-04-04</td>\n",
       "      <td>85942</td>\n",
       "      <td>101</td>\n",
       "      <td>1300.30</td>\n",
       "      <td>2011-04-04</td>\n",
       "      <td>EUR</td>\n",
       "      <td>101</td>\n",
       "    </tr>\n",
       "    <tr>\n",
       "      <th>3</th>\n",
       "      <td>0.0</td>\n",
       "      <td>DEC1</td>\n",
       "      <td>2011-04-04</td>\n",
       "      <td>85810</td>\n",
       "      <td>4141000</td>\n",
       "      <td>569.09</td>\n",
       "      <td>2011-04-04</td>\n",
       "      <td>EUR</td>\n",
       "      <td>4141000</td>\n",
       "    </tr>\n",
       "    <tr>\n",
       "      <th>4</th>\n",
       "      <td>0.0</td>\n",
       "      <td>DEC1</td>\n",
       "      <td>2011-04-04</td>\n",
       "      <td>85457</td>\n",
       "      <td>829</td>\n",
       "      <td>33.80</td>\n",
       "      <td>2011-04-11</td>\n",
       "      <td>EUR</td>\n",
       "      <td>829</td>\n",
       "    </tr>\n",
       "  </tbody>\n",
       "</table>\n",
       "</div>"
      ],
      "text/plain": [
       "  RELEASED_CREDIT_VALUE COMPANY_CODE ORDER_CREATION_DATE  ORDER_CREATION_TIME  \\\n",
       "0                   0.0         DEC1          2011-04-04                85332   \n",
       "1                   0.0         DEC1          2011-04-04                85501   \n",
       "2                   0.0         DEC1          2011-04-04                85942   \n",
       "3                   0.0         DEC1          2011-04-04                85810   \n",
       "4                   0.0         DEC1          2011-04-04                85457   \n",
       "\n",
       "  SOLD_TO_PARTY  ORDER_AMOUNT REQUESTED_DELIVERY_DATE ORDER_CURRENCY  \\\n",
       "0       8421000       1793.95              2011-04-04            EUR   \n",
       "1            37        184.11              2011-04-04            EUR   \n",
       "2           101       1300.30              2011-04-04            EUR   \n",
       "3       4141000        569.09              2011-04-04            EUR   \n",
       "4           829         33.80              2011-04-11            EUR   \n",
       "\n",
       "  CUSTOMER_NUMBER  \n",
       "0         8421000  \n",
       "1              37  \n",
       "2             101  \n",
       "3         4141000  \n",
       "4             829  "
      ]
     },
     "execution_count": 16,
     "metadata": {},
     "output_type": "execute_result"
    }
   ],
   "source": [
    "data.head()"
   ]
  },
  {
   "cell_type": "markdown",
   "metadata": {},
   "source": [
    "### Converting the invoice currency to a global currency (USD)"
   ]
  },
  {
   "cell_type": "code",
   "execution_count": 17,
   "metadata": {},
   "outputs": [],
   "source": [
    "data['CUSTOMER'] = data['COMPANY_CODE'].astype(str) + data['CUSTOMER_NUMBER'].astype(str)"
   ]
  },
  {
   "cell_type": "markdown",
   "metadata": {},
   "source": [
    "### Outliers removal"
   ]
  },
  {
   "cell_type": "code",
   "execution_count": 18,
   "metadata": {},
   "outputs": [
    {
     "name": "stdout",
     "output_type": "stream",
     "text": [
      "1475477563.4999998\n",
      "21113350.0\n",
      "0.0\n",
      "1130305476.0872662\n",
      "1800169.62\n",
      "0.0\n"
     ]
    }
   ],
   "source": [
    "def removeOutlier(group):\n",
    "    mean, std = np.mean(group[\"ORDER_AMOUNT\"]), np.std(group[\"ORDER_AMOUNT\"])\n",
    "    group[\"ORDER_AMOUNT\"] = np.where(group[\"ORDER_AMOUNT\"]>mean+3*std, mean, group[\"ORDER_AMOUNT\"])\n",
    "    return group\n",
    "\n",
    "print(data[\"ORDER_AMOUNT\"].sum())\n",
    "print(data[\"ORDER_AMOUNT\"].max())\n",
    "print(data[\"ORDER_AMOUNT\"].min())\n",
    "data = data.groupby(\"CUSTOMER\").apply(removeOutlier)\n",
    "print(data[\"ORDER_AMOUNT\"].sum())\n",
    "print(data[\"ORDER_AMOUNT\"].max())\n",
    "print(data[\"ORDER_AMOUNT\"].min())"
   ]
  },
  {
   "cell_type": "code",
   "execution_count": 19,
   "metadata": {},
   "outputs": [
    {
     "data": {
      "text/plain": [
       "EUR    441989\n",
       "GBP     10429\n",
       "USD      5205\n",
       "Name: ORDER_CURRENCY, dtype: int64"
      ]
     },
     "execution_count": 19,
     "metadata": {},
     "output_type": "execute_result"
    }
   ],
   "source": [
    "data.ORDER_CURRENCY.value_counts()"
   ]
  },
  {
   "cell_type": "code",
   "execution_count": 20,
   "metadata": {},
   "outputs": [],
   "source": [
    "def func(ORDER_AMOUNT, ORDER_CURRENCY):\n",
    "    if ORDER_CURRENCY=='EUR':\n",
    "        return ORDER_AMOUNT * 1.18\n",
    "    elif ORDER_CURRENCY=='GBP':\n",
    "        return ORDER_AMOUNT * 1.38\n",
    "    else:\n",
    "        return ORDER_AMOUNT"
   ]
  },
  {
   "cell_type": "code",
   "execution_count": 21,
   "metadata": {},
   "outputs": [],
   "source": [
    "data['CONVERTED_ORDER_CURRENCY']=data.apply(lambda x: func(x['ORDER_AMOUNT'], x['ORDER_CURRENCY']), axis=1)"
   ]
  },
  {
   "cell_type": "code",
   "execution_count": 22,
   "metadata": {},
   "outputs": [],
   "source": [
    "data.drop(columns=['ORDER_AMOUNT', 'ORDER_CURRENCY'], inplace=True)"
   ]
  },
  {
   "cell_type": "code",
   "execution_count": 23,
   "metadata": {},
   "outputs": [
    {
     "data": {
      "text/html": [
       "<div>\n",
       "<style scoped>\n",
       "    .dataframe tbody tr th:only-of-type {\n",
       "        vertical-align: middle;\n",
       "    }\n",
       "\n",
       "    .dataframe tbody tr th {\n",
       "        vertical-align: top;\n",
       "    }\n",
       "\n",
       "    .dataframe thead th {\n",
       "        text-align: right;\n",
       "    }\n",
       "</style>\n",
       "<table border=\"1\" class=\"dataframe\">\n",
       "  <thead>\n",
       "    <tr style=\"text-align: right;\">\n",
       "      <th></th>\n",
       "      <th>RELEASED_CREDIT_VALUE</th>\n",
       "      <th>COMPANY_CODE</th>\n",
       "      <th>ORDER_CREATION_DATE</th>\n",
       "      <th>ORDER_CREATION_TIME</th>\n",
       "      <th>SOLD_TO_PARTY</th>\n",
       "      <th>REQUESTED_DELIVERY_DATE</th>\n",
       "      <th>CUSTOMER_NUMBER</th>\n",
       "      <th>CUSTOMER</th>\n",
       "      <th>CONVERTED_ORDER_CURRENCY</th>\n",
       "    </tr>\n",
       "  </thead>\n",
       "  <tbody>\n",
       "    <tr>\n",
       "      <th>0</th>\n",
       "      <td>0.0</td>\n",
       "      <td>DEC1</td>\n",
       "      <td>2011-04-04</td>\n",
       "      <td>85332</td>\n",
       "      <td>8421000</td>\n",
       "      <td>2011-04-04</td>\n",
       "      <td>8421000</td>\n",
       "      <td>DEC18421000</td>\n",
       "      <td>2116.8610</td>\n",
       "    </tr>\n",
       "    <tr>\n",
       "      <th>1</th>\n",
       "      <td>0.0</td>\n",
       "      <td>DEC1</td>\n",
       "      <td>2011-04-04</td>\n",
       "      <td>85501</td>\n",
       "      <td>37</td>\n",
       "      <td>2011-04-04</td>\n",
       "      <td>37</td>\n",
       "      <td>DEC137</td>\n",
       "      <td>217.2498</td>\n",
       "    </tr>\n",
       "    <tr>\n",
       "      <th>2</th>\n",
       "      <td>0.0</td>\n",
       "      <td>DEC1</td>\n",
       "      <td>2011-04-04</td>\n",
       "      <td>85942</td>\n",
       "      <td>101</td>\n",
       "      <td>2011-04-04</td>\n",
       "      <td>101</td>\n",
       "      <td>DEC1101</td>\n",
       "      <td>1534.3540</td>\n",
       "    </tr>\n",
       "    <tr>\n",
       "      <th>3</th>\n",
       "      <td>0.0</td>\n",
       "      <td>DEC1</td>\n",
       "      <td>2011-04-04</td>\n",
       "      <td>85810</td>\n",
       "      <td>4141000</td>\n",
       "      <td>2011-04-04</td>\n",
       "      <td>4141000</td>\n",
       "      <td>DEC14141000</td>\n",
       "      <td>671.5262</td>\n",
       "    </tr>\n",
       "    <tr>\n",
       "      <th>4</th>\n",
       "      <td>0.0</td>\n",
       "      <td>DEC1</td>\n",
       "      <td>2011-04-04</td>\n",
       "      <td>85457</td>\n",
       "      <td>829</td>\n",
       "      <td>2011-04-11</td>\n",
       "      <td>829</td>\n",
       "      <td>DEC1829</td>\n",
       "      <td>39.8840</td>\n",
       "    </tr>\n",
       "  </tbody>\n",
       "</table>\n",
       "</div>"
      ],
      "text/plain": [
       "  RELEASED_CREDIT_VALUE COMPANY_CODE ORDER_CREATION_DATE  ORDER_CREATION_TIME  \\\n",
       "0                   0.0         DEC1          2011-04-04                85332   \n",
       "1                   0.0         DEC1          2011-04-04                85501   \n",
       "2                   0.0         DEC1          2011-04-04                85942   \n",
       "3                   0.0         DEC1          2011-04-04                85810   \n",
       "4                   0.0         DEC1          2011-04-04                85457   \n",
       "\n",
       "  SOLD_TO_PARTY REQUESTED_DELIVERY_DATE CUSTOMER_NUMBER     CUSTOMER  \\\n",
       "0       8421000              2011-04-04         8421000  DEC18421000   \n",
       "1            37              2011-04-04              37       DEC137   \n",
       "2           101              2011-04-04             101      DEC1101   \n",
       "3       4141000              2011-04-04         4141000  DEC14141000   \n",
       "4           829              2011-04-11             829      DEC1829   \n",
       "\n",
       "   CONVERTED_ORDER_CURRENCY  \n",
       "0                 2116.8610  \n",
       "1                  217.2498  \n",
       "2                 1534.3540  \n",
       "3                  671.5262  \n",
       "4                   39.8840  "
      ]
     },
     "execution_count": 23,
     "metadata": {},
     "output_type": "execute_result"
    }
   ],
   "source": [
    "data.head()"
   ]
  },
  {
   "cell_type": "markdown",
   "metadata": {},
   "source": [
    "### Data Sanity Check"
   ]
  },
  {
   "cell_type": "code",
   "execution_count": 24,
   "metadata": {},
   "outputs": [
    {
     "name": "stdout",
     "output_type": "stream",
     "text": [
      "Data Size before sanity check  (457623, 9)\n",
      "After sanity check size is  (457613, 9)\n"
     ]
    }
   ],
   "source": [
    "print('Data Size before sanity check ',data.shape)\n",
    "\n",
    "data = data[(data['CONVERTED_ORDER_CURRENCY']>=0) & (data['CONVERTED_ORDER_CURRENCY']<700000)]\n",
    "\n",
    "print('After sanity check size is ',data.shape)"
   ]
  },
  {
   "cell_type": "code",
   "execution_count": 25,
   "metadata": {},
   "outputs": [
    {
     "name": "stdout",
     "output_type": "stream",
     "text": [
      "Data Size before sanity check  (457613, 9)\n",
      "After sanity check size is  (424061, 9)\n"
     ]
    }
   ],
   "source": [
    "print('Data Size before sanity check ',data.shape)\n",
    "\n",
    "data = data[data['REQUESTED_DELIVERY_DATE'] >= data['ORDER_CREATION_DATE']]\n",
    "\n",
    "data=data[data.CONVERTED_ORDER_CURRENCY > 0]\n",
    "\n",
    "print('After sanity check size is ',data.shape)"
   ]
  },
  {
   "cell_type": "code",
   "execution_count": 26,
   "metadata": {},
   "outputs": [
    {
     "data": {
      "text/plain": [
       "2021    46820\n",
       "2017    43717\n",
       "2020    41793\n",
       "2016    40828\n",
       "2018    39173\n",
       "2015    38245\n",
       "2014    37531\n",
       "2013    36567\n",
       "2019    35962\n",
       "2012    35641\n",
       "2011    27757\n",
       "2022       20\n",
       "2023        2\n",
       "2202        1\n",
       "2201        1\n",
       "2024        1\n",
       "2025        1\n",
       "2026        1\n",
       "Name: REQUESTED_DELIVERY_DATE, dtype: int64"
      ]
     },
     "execution_count": 26,
     "metadata": {},
     "output_type": "execute_result"
    }
   ],
   "source": [
    "data.REQUESTED_DELIVERY_DATE.dt.year.value_counts()"
   ]
  },
  {
   "cell_type": "code",
   "execution_count": 27,
   "metadata": {},
   "outputs": [],
   "source": [
    "data=data.loc[data.REQUESTED_DELIVERY_DATE.dt.year>=2011]\n",
    "data=data.loc[data.REQUESTED_DELIVERY_DATE.dt.year<=2021]"
   ]
  },
  {
   "cell_type": "code",
   "execution_count": 28,
   "metadata": {},
   "outputs": [
    {
     "data": {
      "text/plain": [
       "2021    46820\n",
       "2017    43717\n",
       "2020    41793\n",
       "2016    40828\n",
       "2018    39173\n",
       "2015    38245\n",
       "2014    37531\n",
       "2013    36567\n",
       "2019    35962\n",
       "2012    35641\n",
       "2011    27757\n",
       "Name: REQUESTED_DELIVERY_DATE, dtype: int64"
      ]
     },
     "execution_count": 28,
     "metadata": {},
     "output_type": "execute_result"
    }
   ],
   "source": [
    "data.REQUESTED_DELIVERY_DATE.dt.year.value_counts()"
   ]
  },
  {
   "cell_type": "code",
   "execution_count": 29,
   "metadata": {},
   "outputs": [],
   "source": [
    "data=data.loc[data.ORDER_CREATION_DATE>='2011-06-01']\n",
    "data=data.loc[data.ORDER_CREATION_DATE<'2021-07-01']"
   ]
  },
  {
   "cell_type": "markdown",
   "metadata": {},
   "source": [
    "### Statistical Analysis"
   ]
  },
  {
   "cell_type": "code",
   "execution_count": 30,
   "metadata": {},
   "outputs": [
    {
     "name": "stdout",
     "output_type": "stream",
     "text": [
      "33155.60224000007\n",
      "(403559, 9)\n",
      "(407636, 9)\n",
      "1.000157002816238 %\n",
      "3669\n",
      "266700817.84284404\n",
      "987006420.8850154\n"
     ]
    }
   ],
   "source": [
    "q = data[\"CONVERTED_ORDER_CURRENCY\"].quantile(0.99)\n",
    "print(q)\n",
    "print(data[data[\"CONVERTED_ORDER_CURRENCY\"]<q].shape)\n",
    "print(data.shape)\n",
    "print((len(data)-len(data[data[\"CONVERTED_ORDER_CURRENCY\"]<q]))*100/len(data),\"%\")\n",
    "print(len(data[data[\"CONVERTED_ORDER_CURRENCY\"]>=q][\"CONVERTED_ORDER_CURRENCY\"].unique()))\n",
    "print(data[data[\"CONVERTED_ORDER_CURRENCY\"]>=q][\"CONVERTED_ORDER_CURRENCY\"].sum())\n",
    "print(data[data[\"CONVERTED_ORDER_CURRENCY\"]<q][\"CONVERTED_ORDER_CURRENCY\"].sum())"
   ]
  },
  {
   "cell_type": "code",
   "execution_count": 31,
   "metadata": {},
   "outputs": [
    {
     "data": {
      "text/plain": [
       "1253707238.7278593"
      ]
     },
     "execution_count": 31,
     "metadata": {},
     "output_type": "execute_result"
    }
   ],
   "source": [
    "data['CONVERTED_ORDER_CURRENCY'].sum()"
   ]
  },
  {
   "cell_type": "markdown",
   "metadata": {},
   "source": [
    "### Outliers removal"
   ]
  },
  {
   "cell_type": "code",
   "execution_count": 32,
   "metadata": {},
   "outputs": [
    {
     "name": "stdout",
     "output_type": "stream",
     "text": [
      "1253707238.7278593\n",
      "693811.09\n",
      "0.00046825396825396823\n",
      "1100729162.731617\n",
      "548397.9199999999\n",
      "0.00046825396825396823\n"
     ]
    }
   ],
   "source": [
    "def removeOutlier(group):\n",
    "    mean, std = np.mean(group[\"CONVERTED_ORDER_CURRENCY\"]), np.std(group[\"CONVERTED_ORDER_CURRENCY\"])\n",
    "    group[\"CONVERTED_ORDER_CURRENCY\"] = np.where(group[\"CONVERTED_ORDER_CURRENCY\"]>mean+3*std, mean, group[\"CONVERTED_ORDER_CURRENCY\"])\n",
    "    return group\n",
    "\n",
    "print(data[\"CONVERTED_ORDER_CURRENCY\"].sum())\n",
    "print(data[\"CONVERTED_ORDER_CURRENCY\"].max())\n",
    "print(data[\"CONVERTED_ORDER_CURRENCY\"].min())\n",
    "data = data.groupby(\"CUSTOMER\").apply(removeOutlier)\n",
    "print(data[\"CONVERTED_ORDER_CURRENCY\"].sum())\n",
    "print(data[\"CONVERTED_ORDER_CURRENCY\"].max())\n",
    "print(data[\"CONVERTED_ORDER_CURRENCY\"].min())"
   ]
  },
  {
   "cell_type": "markdown",
   "metadata": {},
   "source": [
    "### EDA"
   ]
  },
  {
   "cell_type": "code",
   "execution_count": 33,
   "metadata": {},
   "outputs": [
    {
     "data": {
      "text/html": [
       "<div>\n",
       "<style scoped>\n",
       "    .dataframe tbody tr th:only-of-type {\n",
       "        vertical-align: middle;\n",
       "    }\n",
       "\n",
       "    .dataframe tbody tr th {\n",
       "        vertical-align: top;\n",
       "    }\n",
       "\n",
       "    .dataframe thead th {\n",
       "        text-align: right;\n",
       "    }\n",
       "</style>\n",
       "<table border=\"1\" class=\"dataframe\">\n",
       "  <thead>\n",
       "    <tr style=\"text-align: right;\">\n",
       "      <th></th>\n",
       "      <th>RELEASED_CREDIT_VALUE</th>\n",
       "      <th>COMPANY_CODE</th>\n",
       "      <th>ORDER_CREATION_DATE</th>\n",
       "      <th>ORDER_CREATION_TIME</th>\n",
       "      <th>SOLD_TO_PARTY</th>\n",
       "      <th>REQUESTED_DELIVERY_DATE</th>\n",
       "      <th>CUSTOMER_NUMBER</th>\n",
       "      <th>CUSTOMER</th>\n",
       "      <th>CONVERTED_ORDER_CURRENCY</th>\n",
       "    </tr>\n",
       "  </thead>\n",
       "  <tbody>\n",
       "    <tr>\n",
       "      <th>6690</th>\n",
       "      <td>0.0</td>\n",
       "      <td>DEC1</td>\n",
       "      <td>2011-06-01</td>\n",
       "      <td>13803</td>\n",
       "      <td>5750</td>\n",
       "      <td>2011-06-01</td>\n",
       "      <td>5750</td>\n",
       "      <td>DEC15750</td>\n",
       "      <td>561.8452</td>\n",
       "    </tr>\n",
       "    <tr>\n",
       "      <th>6691</th>\n",
       "      <td>0.0</td>\n",
       "      <td>DEC1</td>\n",
       "      <td>2011-06-01</td>\n",
       "      <td>14550</td>\n",
       "      <td>966</td>\n",
       "      <td>2011-06-09</td>\n",
       "      <td>966</td>\n",
       "      <td>DEC1966</td>\n",
       "      <td>65.1360</td>\n",
       "    </tr>\n",
       "    <tr>\n",
       "      <th>6692</th>\n",
       "      <td>0.0</td>\n",
       "      <td>DEC1</td>\n",
       "      <td>2011-06-01</td>\n",
       "      <td>14825</td>\n",
       "      <td>41557000</td>\n",
       "      <td>2011-06-01</td>\n",
       "      <td>41557000</td>\n",
       "      <td>DEC141557000</td>\n",
       "      <td>2649.8434</td>\n",
       "    </tr>\n",
       "    <tr>\n",
       "      <th>6693</th>\n",
       "      <td>0.0</td>\n",
       "      <td>DEC1</td>\n",
       "      <td>2011-06-01</td>\n",
       "      <td>15224</td>\n",
       "      <td>41557000</td>\n",
       "      <td>2011-06-01</td>\n",
       "      <td>41557000</td>\n",
       "      <td>DEC141557000</td>\n",
       "      <td>2004.4660</td>\n",
       "    </tr>\n",
       "    <tr>\n",
       "      <th>6694</th>\n",
       "      <td>0.0</td>\n",
       "      <td>DEC1</td>\n",
       "      <td>2011-06-01</td>\n",
       "      <td>15610</td>\n",
       "      <td>41557000</td>\n",
       "      <td>2011-06-01</td>\n",
       "      <td>41557000</td>\n",
       "      <td>DEC141557000</td>\n",
       "      <td>710.5488</td>\n",
       "    </tr>\n",
       "  </tbody>\n",
       "</table>\n",
       "</div>"
      ],
      "text/plain": [
       "     RELEASED_CREDIT_VALUE COMPANY_CODE ORDER_CREATION_DATE  \\\n",
       "6690                   0.0         DEC1          2011-06-01   \n",
       "6691                   0.0         DEC1          2011-06-01   \n",
       "6692                   0.0         DEC1          2011-06-01   \n",
       "6693                   0.0         DEC1          2011-06-01   \n",
       "6694                   0.0         DEC1          2011-06-01   \n",
       "\n",
       "      ORDER_CREATION_TIME SOLD_TO_PARTY REQUESTED_DELIVERY_DATE  \\\n",
       "6690                13803          5750              2011-06-01   \n",
       "6691                14550           966              2011-06-09   \n",
       "6692                14825      41557000              2011-06-01   \n",
       "6693                15224      41557000              2011-06-01   \n",
       "6694                15610      41557000              2011-06-01   \n",
       "\n",
       "     CUSTOMER_NUMBER      CUSTOMER  CONVERTED_ORDER_CURRENCY  \n",
       "6690            5750      DEC15750                  561.8452  \n",
       "6691             966       DEC1966                   65.1360  \n",
       "6692        41557000  DEC141557000                 2649.8434  \n",
       "6693        41557000  DEC141557000                 2004.4660  \n",
       "6694        41557000  DEC141557000                  710.5488  "
      ]
     },
     "execution_count": 33,
     "metadata": {},
     "output_type": "execute_result"
    }
   ],
   "source": [
    "data.head()"
   ]
  },
  {
   "cell_type": "code",
   "execution_count": 34,
   "metadata": {},
   "outputs": [
    {
     "data": {
      "image/png": "[encoded data removed]",
      "text/plain": [
       "<Figure size 1440x720 with 1 Axes>"
      ]
     },
     "metadata": {},
     "output_type": "display_data"
    }
   ],
   "source": [
    "sns.set(rc={\"figure.figsize\":(20, 10)})\n",
    "sns.barplot(data=data, x=\"COMPANY_CODE\", y=\"CONVERTED_ORDER_CURRENCY\")\n",
    "plt.xlabel('Company')\n",
    "plt.ylabel('Avg order amount')\n",
    "plt.show()"
   ]
  },
  {
   "cell_type": "code",
   "execution_count": 35,
   "metadata": {},
   "outputs": [
    {
     "data": {
      "text/plain": [
       "<AxesSubplot:xlabel='ORDER_CREATION_DATE'>"
      ]
     },
     "execution_count": 35,
     "metadata": {},
     "output_type": "execute_result"
    },
    {
     "data": {
      "image/png": "[encoded data removed]",
      "text/plain": [
       "<Figure size 1440x720 with 1 Axes>"
      ]
     },
     "metadata": {},
     "output_type": "display_data"
    }
   ],
   "source": [
    "data.groupby(data[\"ORDER_CREATION_DATE\"].dt.year)[\"CONVERTED_ORDER_CURRENCY\"].count().plot.bar()"
   ]
  },
  {
   "cell_type": "code",
   "execution_count": 36,
   "metadata": {},
   "outputs": [
    {
     "data": {
      "text/plain": [
       "<AxesSubplot:xlabel='ORDER_CREATION_DATE', ylabel='count'>"
      ]
     },
     "execution_count": 36,
     "metadata": {},
     "output_type": "execute_result"
    },
    {
     "data": {
      "image/png": "[encoded data removed]",
      "text/plain": [
       "<Figure size 1440x720 with 1 Axes>"
      ]
     },
     "metadata": {},
     "output_type": "display_data"
    }
   ],
   "source": [
    "sns.set(rc={\"figure.figsize\":(20, 10)})\n",
    "sns.countplot(data=data, x=data.ORDER_CREATION_DATE.dt.month)"
   ]
  },
  {
   "cell_type": "code",
   "execution_count": 37,
   "metadata": {},
   "outputs": [
    {
     "data": {
      "text/plain": [
       "<AxesSubplot:xlabel='REQUESTED_DELIVERY_DATE', ylabel='count'>"
      ]
     },
     "execution_count": 37,
     "metadata": {},
     "output_type": "execute_result"
    },
    {
     "data": {
      "image/png": "[encoded data removed]",
      "text/plain": [
       "<Figure size 1440x720 with 1 Axes>"
      ]
     },
     "metadata": {},
     "output_type": "display_data"
    }
   ],
   "source": [
    "sns.set(rc={\"figure.figsize\":(20, 10)})\n",
    "sns.countplot(data=data, x=data.REQUESTED_DELIVERY_DATE.dt.month)"
   ]
  },
  {
   "cell_type": "code",
   "execution_count": 38,
   "metadata": {},
   "outputs": [
    {
     "data": {
      "text/plain": [
       "<AxesSubplot:xlabel='ORDER_CREATION_DATE'>"
      ]
     },
     "execution_count": 38,
     "metadata": {},
     "output_type": "execute_result"
    },
    {
     "data": {
      "image/png": "[encoded data removed]",
      "text/plain": [
       "<Figure size 1440x720 with 1 Axes>"
      ]
     },
     "metadata": {},
     "output_type": "display_data"
    }
   ],
   "source": [
    "data.groupby([data[\"ORDER_CREATION_DATE\"].dt.year, data[\"ORDER_CREATION_DATE\"].dt.month])[\"CONVERTED_ORDER_CURRENCY\"].count().unstack().plot.bar()"
   ]
  },
  {
   "cell_type": "code",
   "execution_count": 39,
   "metadata": {},
   "outputs": [
    {
     "data": {
      "image/png": "[encoded data removed]",
      "text/plain": [
       "<Figure size 1440x720 with 1 Axes>"
      ]
     },
     "metadata": {},
     "output_type": "display_data"
    }
   ],
   "source": [
    "ax=sns.boxplot(x=data['CONVERTED_ORDER_CURRENCY'])"
   ]
  },
  {
   "cell_type": "code",
   "execution_count": 40,
   "metadata": {},
   "outputs": [
    {
     "data": {
      "image/png": "[encoded data removed]",
      "text/plain": [
       "<Figure size 1080x504 with 1 Axes>"
      ]
     },
     "metadata": {},
     "output_type": "display_data"
    }
   ],
   "source": [
    "plt.figure(figsize=(15,7))\n",
    "ax=sns.boxplot(x=data['ORDER_CREATION_DATE'].dt.year,y=data['CONVERTED_ORDER_CURRENCY'])"
   ]
  },
  {
   "cell_type": "markdown",
   "metadata": {},
   "source": [
    "### Feature Engineering"
   ]
  },
  {
   "cell_type": "code",
   "execution_count": 41,
   "metadata": {},
   "outputs": [
    {
     "data": {
      "text/plain": [
       "(407636, 9)"
      ]
     },
     "execution_count": 41,
     "metadata": {},
     "output_type": "execute_result"
    }
   ],
   "source": [
    "data.shape"
   ]
  },
  {
   "cell_type": "code",
   "execution_count": 42,
   "metadata": {},
   "outputs": [
    {
     "data": {
      "text/html": [
       "<div>\n",
       "<style scoped>\n",
       "    .dataframe tbody tr th:only-of-type {\n",
       "        vertical-align: middle;\n",
       "    }\n",
       "\n",
       "    .dataframe tbody tr th {\n",
       "        vertical-align: top;\n",
       "    }\n",
       "\n",
       "    .dataframe thead th {\n",
       "        text-align: right;\n",
       "    }\n",
       "</style>\n",
       "<table border=\"1\" class=\"dataframe\">\n",
       "  <thead>\n",
       "    <tr style=\"text-align: right;\">\n",
       "      <th></th>\n",
       "      <th>RELEASED_CREDIT_VALUE</th>\n",
       "      <th>COMPANY_CODE</th>\n",
       "      <th>ORDER_CREATION_DATE</th>\n",
       "      <th>ORDER_CREATION_TIME</th>\n",
       "      <th>SOLD_TO_PARTY</th>\n",
       "      <th>REQUESTED_DELIVERY_DATE</th>\n",
       "      <th>CUSTOMER_NUMBER</th>\n",
       "      <th>CUSTOMER</th>\n",
       "      <th>CONVERTED_ORDER_CURRENCY</th>\n",
       "    </tr>\n",
       "  </thead>\n",
       "  <tbody>\n",
       "    <tr>\n",
       "      <th>6690</th>\n",
       "      <td>0.0</td>\n",
       "      <td>DEC1</td>\n",
       "      <td>2011-06-01</td>\n",
       "      <td>13803</td>\n",
       "      <td>5750</td>\n",
       "      <td>2011-06-01</td>\n",
       "      <td>5750</td>\n",
       "      <td>DEC15750</td>\n",
       "      <td>561.8452</td>\n",
       "    </tr>\n",
       "    <tr>\n",
       "      <th>6691</th>\n",
       "      <td>0.0</td>\n",
       "      <td>DEC1</td>\n",
       "      <td>2011-06-01</td>\n",
       "      <td>14550</td>\n",
       "      <td>966</td>\n",
       "      <td>2011-06-09</td>\n",
       "      <td>966</td>\n",
       "      <td>DEC1966</td>\n",
       "      <td>65.1360</td>\n",
       "    </tr>\n",
       "    <tr>\n",
       "      <th>6692</th>\n",
       "      <td>0.0</td>\n",
       "      <td>DEC1</td>\n",
       "      <td>2011-06-01</td>\n",
       "      <td>14825</td>\n",
       "      <td>41557000</td>\n",
       "      <td>2011-06-01</td>\n",
       "      <td>41557000</td>\n",
       "      <td>DEC141557000</td>\n",
       "      <td>2649.8434</td>\n",
       "    </tr>\n",
       "    <tr>\n",
       "      <th>6693</th>\n",
       "      <td>0.0</td>\n",
       "      <td>DEC1</td>\n",
       "      <td>2011-06-01</td>\n",
       "      <td>15224</td>\n",
       "      <td>41557000</td>\n",
       "      <td>2011-06-01</td>\n",
       "      <td>41557000</td>\n",
       "      <td>DEC141557000</td>\n",
       "      <td>2004.4660</td>\n",
       "    </tr>\n",
       "    <tr>\n",
       "      <th>6694</th>\n",
       "      <td>0.0</td>\n",
       "      <td>DEC1</td>\n",
       "      <td>2011-06-01</td>\n",
       "      <td>15610</td>\n",
       "      <td>41557000</td>\n",
       "      <td>2011-06-01</td>\n",
       "      <td>41557000</td>\n",
       "      <td>DEC141557000</td>\n",
       "      <td>710.5488</td>\n",
       "    </tr>\n",
       "  </tbody>\n",
       "</table>\n",
       "</div>"
      ],
      "text/plain": [
       "     RELEASED_CREDIT_VALUE COMPANY_CODE ORDER_CREATION_DATE  \\\n",
       "6690                   0.0         DEC1          2011-06-01   \n",
       "6691                   0.0         DEC1          2011-06-01   \n",
       "6692                   0.0         DEC1          2011-06-01   \n",
       "6693                   0.0         DEC1          2011-06-01   \n",
       "6694                   0.0         DEC1          2011-06-01   \n",
       "\n",
       "      ORDER_CREATION_TIME SOLD_TO_PARTY REQUESTED_DELIVERY_DATE  \\\n",
       "6690                13803          5750              2011-06-01   \n",
       "6691                14550           966              2011-06-09   \n",
       "6692                14825      41557000              2011-06-01   \n",
       "6693                15224      41557000              2011-06-01   \n",
       "6694                15610      41557000              2011-06-01   \n",
       "\n",
       "     CUSTOMER_NUMBER      CUSTOMER  CONVERTED_ORDER_CURRENCY  \n",
       "6690            5750      DEC15750                  561.8452  \n",
       "6691             966       DEC1966                   65.1360  \n",
       "6692        41557000  DEC141557000                 2649.8434  \n",
       "6693        41557000  DEC141557000                 2004.4660  \n",
       "6694        41557000  DEC141557000                  710.5488  "
      ]
     },
     "execution_count": 42,
     "metadata": {},
     "output_type": "execute_result"
    }
   ],
   "source": [
    "data.head()"
   ]
  },
  {
   "cell_type": "code",
   "execution_count": 43,
   "metadata": {},
   "outputs": [],
   "source": [
    "customer_id_col = 'CUSTOMER'\n",
    "net_amount_col = 'CONVERTED_ORDER_CURRENCY'\n",
    "create_date_col = 'ORDER_CREATION_DATE'"
   ]
  },
  {
   "cell_type": "code",
   "execution_count": 44,
   "metadata": {},
   "outputs": [],
   "source": [
    "# Aggregating order data on daily level\n",
    "data = data.groupby([customer_id_col,create_date_col])[net_amount_col].sum().reset_index()\n",
    "data[create_date_col] = pd.to_datetime(data[create_date_col])"
   ]
  },
  {
   "cell_type": "code",
   "execution_count": 45,
   "metadata": {},
   "outputs": [],
   "source": [
    "top_50 = data.groupby(\"CUSTOMER\")['CONVERTED_ORDER_CURRENCY'].sum().sort_values(ascending = False).index[:50]\n",
    "data = data[data['CUSTOMER'].isin(top_50)][[ 'CONVERTED_ORDER_CURRENCY', 'ORDER_CREATION_DATE','CUSTOMER']].copy()"
   ]
  },
  {
   "cell_type": "code",
   "execution_count": 46,
   "metadata": {},
   "outputs": [],
   "source": [
    "def create_uniform_freq(group, date, amount):\n",
    "    custdict = dict(zip(group[date], group[amount]))\n",
    "    mindate, maxdate = group[date].min(), group[date].max()\n",
    "    result = pd.DataFrame(columns = [date, amount])\n",
    "    result[date] = pd.date_range(mindate, maxdate)\n",
    "    result[amount] = result[date].map(custdict).fillna(0)\n",
    "    return result\n",
    "\n",
    "# filling missing dates with 0\n",
    "data = data.groupby(customer_id_col).apply(lambda x: create_uniform_freq(x,create_date_col,\n",
    "                                                                net_amount_col)).reset_index().drop(\"level_1\", axis = 1)"
   ]
  },
  {
   "cell_type": "code",
   "execution_count": 47,
   "metadata": {},
   "outputs": [
    {
     "name": "stderr",
     "output_type": "stream",
     "text": [
      "100%|█████████████████████████████████████████████████████████████████████████████████████████████████████████████████████████████████████| 50/50 [00:00<00:00, 144.10it/s]\n"
     ]
    }
   ],
   "source": [
    "def resample_3(data, customer_id_col, net_amount_col, create_date_col):\n",
    "    whole_data = pd.DataFrame()\n",
    "    counter = 0\n",
    "    for group in tqdm(data[[customer_id_col,create_date_col, net_amount_col]].groupby(customer_id_col)):\n",
    "        df = group[1]\n",
    "        df[create_date_col] = pd.to_datetime(df[create_date_col])\n",
    "        series = df.groupby(create_date_col)[net_amount_col].sum()\n",
    "        series = series.rolling(3, min_periods = 3).sum().dropna().resample('3D').first()\n",
    "        seriesDf = pd.DataFrame(series)\n",
    "        seriesDf[customer_id_col] = group[0]\n",
    "        seriesDf = seriesDf.reset_index()\n",
    "        whole_data = pd.concat([whole_data,seriesDf])\n",
    "        counter += 1\n",
    "    whole_data.dropna(subset = [create_date_col], inplace=True)\n",
    "    whole_data.dropna(subset=[customer_id_col], inplace = True)\n",
    "    return whole_data\n",
    "\n",
    "data = resample_3(data, customer_id_col, net_amount_col, create_date_col)"
   ]
  },
  {
   "cell_type": "code",
   "execution_count": 48,
   "metadata": {},
   "outputs": [
    {
     "name": "stdout",
     "output_type": "stream",
     "text": [
      "47448\n"
     ]
    }
   ],
   "source": [
    "def encodingLabel(data, customer_id_col):\n",
    "    enc = LabelEncoder()\n",
    "    enc.fit(data[customer_id_col])\n",
    "    data['CUSTOMER_ENCODED'] = enc.transform(data[customer_id_col])\n",
    "    return data\n",
    "data['originalCustomer'] = data[customer_id_col]\n",
    "data = encodingLabel(data, customer_id_col)\n",
    "print(data.shape[0])"
   ]
  },
  {
   "cell_type": "code",
   "execution_count": 49,
   "metadata": {},
   "outputs": [
    {
     "data": {
      "text/plain": [
       "Index(['ORDER_CREATION_DATE', 'CONVERTED_ORDER_CURRENCY', 'CUSTOMER',\n",
       "       'originalCustomer', 'CUSTOMER_ENCODED'],\n",
       "      dtype='object')"
      ]
     },
     "execution_count": 49,
     "metadata": {},
     "output_type": "execute_result"
    }
   ],
   "source": [
    "data.columns"
   ]
  },
  {
   "cell_type": "code",
   "execution_count": 50,
   "metadata": {},
   "outputs": [],
   "source": [
    "data = data.sort_values(by = 'ORDER_CREATION_DATE')"
   ]
  },
  {
   "cell_type": "code",
   "execution_count": 51,
   "metadata": {},
   "outputs": [],
   "source": [
    "def create_more_lags(melt, lags, ffday, customer_id_col, create_date_col, net_amount_col):\n",
    "    for i in range(ffday, lags+1):\n",
    "        melt['Last-'+str(i)+'day_Sales'] = melt.groupby([customer_id_col])[net_amount_col].shift(i)\n",
    "    \n",
    "    melt = melt.reset_index(drop = True)\n",
    "    \n",
    "    for i in range(ffday, lags+1):\n",
    "        melt['Last-'+str(i)+'day_Diff']  = melt.groupby([customer_id_col])['Last-'+str(i)+'day_Sales'].diff()\n",
    "    melt = melt.fillna(0)\n",
    "    return melt\n",
    "\n",
    "data = create_more_lags(data,30, 1, customer_id_col, create_date_col, net_amount_col)\n",
    "data = create_more_lags(data,30, 1, customer_id_col, create_date_col, net_amount_col)"
   ]
  },
  {
   "cell_type": "code",
   "execution_count": 52,
   "metadata": {},
   "outputs": [],
   "source": [
    "train = data[:int(len(data)*0.8)]\n",
    "test = data[int(len(data)*0.8):]"
   ]
  },
  {
   "cell_type": "code",
   "execution_count": 53,
   "metadata": {},
   "outputs": [
    {
     "data": {
      "text/plain": [
       "((37958, 65), (9490, 65))"
      ]
     },
     "execution_count": 53,
     "metadata": {},
     "output_type": "execute_result"
    }
   ],
   "source": [
    "train.shape, test.shape"
   ]
  },
  {
   "cell_type": "code",
   "execution_count": 54,
   "metadata": {},
   "outputs": [],
   "source": [
    "def add_datepart(df, fldname, drop):\n",
    "    fld = df[fldname]\n",
    "    if not np.issubdtype(fld.dtype, np.datetime64):\n",
    "        df[fldname] = fld = pd.to_datetime(fld, \n",
    "                                     infer_datetime_format=True)\n",
    "    for n in ('Year', 'Month', 'Week', 'Day', 'Dayofweek', \n",
    "            'Dayofyear', 'Is_month_end', 'Is_month_start', \n",
    "            'Is_quarter_end', 'Is_quarter_start', 'Is_year_end', \n",
    "            'Is_year_start'):\n",
    "        df[n] = getattr(fld.dt,n.lower())\n",
    "\n",
    "    if drop: df.drop(fldname, axis=1, inplace=True)\n",
    "        \n",
    "    return df\n",
    "\n",
    "train = add_datepart(train, create_date_col, False)\n",
    "test = add_datepart(test, create_date_col, False)"
   ]
  },
  {
   "cell_type": "code",
   "execution_count": 55,
   "metadata": {},
   "outputs": [],
   "source": [
    "def MA_feat(df, ll, ul, net_amount_col):\n",
    "    for i in range(ll, ul):\n",
    "        df['MA_'+str(i)]  =  df.groupby([customer_id_col])[net_amount_col].shift(3).rolling(window=i).mean()\n",
    "    df = df.fillna(0)\n",
    "    return df\n",
    "\n",
    "train = MA_feat(train, 3, 10, net_amount_col)\n",
    "test = MA_feat(test, 3, 10, net_amount_col)"
   ]
  },
  {
   "cell_type": "code",
   "execution_count": 56,
   "metadata": {},
   "outputs": [],
   "source": [
    "def ExpMovingAverage(values, window):\n",
    "    weights = np.exp(np.linspace(-1.0,0.,window))\n",
    "    weights /= weights.sum()\n",
    "\n",
    "    a = np.convolve(values, weights)[:len(values)]\n",
    "    a[:window] = a[window]\n",
    "    return a \n",
    "\n",
    "train['expMA'] = ExpMovingAverage(train[net_amount_col].shift(3).fillna(0), 3)\n",
    "train['expMA7'] = ExpMovingAverage(train[net_amount_col].shift(3).fillna(0), 7)\n",
    "train['expMA30'] = ExpMovingAverage(train[net_amount_col].shift(3).fillna(0), 30)\n",
    "\n",
    "test['expMA'] = ExpMovingAverage(test[net_amount_col].shift(3).fillna(0), 3)\n",
    "test['expMA7'] = ExpMovingAverage(test[net_amount_col].shift(3).fillna(0), 7)\n",
    "test['expMA30'] = ExpMovingAverage(test[net_amount_col].shift(3).fillna(0), 30)"
   ]
  },
  {
   "cell_type": "code",
   "execution_count": 57,
   "metadata": {},
   "outputs": [],
   "source": [
    "def weekly_lag_mean(data, lags):\n",
    "    list_cols = []\n",
    "    for i in range(1,lags+1):       \n",
    "        lag_df = data.groupby([customer_id_col, 'Year', 'Week'])[net_amount_col].agg(['mean'])        \n",
    "        lag_df.columns = ['Customer_week_lag_{}'.format(i)]        \n",
    "        list_cols.append('Customer_week_lag_{}'.format(i))        \n",
    "        lag_df.reset_index(drop = False, inplace = True)       \n",
    "        lag_df['Week'] = lag_df['Week'] + i        \n",
    "        data = pd.merge(data, lag_df, on = [customer_id_col,'Year','Week'], how = 'left')\n",
    "    lag_df = data[list_cols + [customer_id_col, 'Year','Week']].drop_duplicates()\n",
    "    \n",
    "    return data, lag_df \n",
    "    \n",
    "def monthly_lag_mean(data, lags):\n",
    "    list_cols = []\n",
    "    for i in range(1,lags+1):        \n",
    "        lag_df = data.groupby([customer_id_col, 'Year', 'Month'])[net_amount_col].agg(['mean'])        \n",
    "        lag_df.columns = ['Customer_Month_lag_{}'.format(i)]        \n",
    "        list_cols.append('Customer_Month_lag_{}'.format(i))        \n",
    "        lag_df.reset_index(drop = False, inplace = True)        \n",
    "        lag_df['Month'] = lag_df['Month'] + i        \n",
    "        data = pd.merge(data, lag_df, on = [customer_id_col,'Year','Month'], how = 'left')\n",
    "    lag_df = data[list_cols + [customer_id_col, 'Year','Month']].drop_duplicates()    \n",
    "    return data, lag_df\n",
    "\n",
    "def yearly_lag_mean(data, lags):\n",
    "    list_cols = []\n",
    "    \n",
    "    for i in range(1,lags+1):        \n",
    "        lag_df = data.groupby([customer_id_col, 'Year', 'Week'])[net_amount_col].agg(['mean'])        \n",
    "        lag_df.columns = ['Customer_year_lag_{}'.format(i)]        \n",
    "        list_cols.append('Customer_year_lag_{}'.format(i))        \n",
    "        lag_df.reset_index(drop = False, inplace = True)        \n",
    "        lag_df['Year'] = lag_df['Year'] + i        \n",
    "        data = pd.merge(data, lag_df, on = [customer_id_col,'Year','Week'], how = 'left')\n",
    "    lag_df = data[list_cols + [customer_id_col, 'Year','Week']].drop_duplicates()\n",
    "    \n",
    "    return data, lag_df\n",
    "\n",
    "def weekday_ratio_sum(data, customer_id_col, create_date_col, net_amount_col):    \n",
    "    weekdf_sum = (data.groupby([data[customer_id_col], data[create_date_col].dt.dayofweek])\n",
    "    [net_amount_col].sum() / data.groupby(customer_id_col)[net_amount_col].sum()).reset_index()\n",
    "        \n",
    "    weekdf_sum.columns = [customer_id_col, 'Dayofweek', 'weekday_ratio_sum']\n",
    "    \n",
    "    weekdf_cnt = (data.groupby([data[customer_id_col], data[create_date_col].dt.dayofweek])\n",
    "    [net_amount_col].count() / data.groupby(customer_id_col)[net_amount_col].count()).reset_index()\n",
    "        \n",
    "    weekdf_cnt.columns = [customer_id_col, 'Dayofweek', 'weekday_ratio_cnt']    \n",
    "    weekdf = pd.merge(weekdf_sum, weekdf_cnt, on = [customer_id_col, 'Dayofweek'], how = 'left')\n",
    "    \n",
    "    return weekdf"
   ]
  },
  {
   "cell_type": "code",
   "execution_count": 58,
   "metadata": {},
   "outputs": [],
   "source": [
    "train, weekly_lag_lb = weekly_lag_mean(train, 4)\n",
    "train, monthly_lag_lb = monthly_lag_mean(train, 2)\n",
    "train, yearly_lag_lb = yearly_lag_mean(train, 1)\n",
    "week_ratio_lb = weekday_ratio_sum(train, customer_id_col, create_date_col, net_amount_col)\n",
    "train = pd.merge(train, week_ratio_lb, on = [customer_id_col, \"Dayofweek\"], how = \"left\")"
   ]
  },
  {
   "cell_type": "code",
   "execution_count": 59,
   "metadata": {},
   "outputs": [],
   "source": [
    "test, weekly_lag_lb = weekly_lag_mean(test, 4)\n",
    "test, monthly_lag_lb = monthly_lag_mean(test, 2)\n",
    "test, yearly_lag_lb = yearly_lag_mean(test, 1)\n",
    "week_ratio_lb = weekday_ratio_sum(test, customer_id_col, create_date_col, net_amount_col)\n",
    "test = pd.merge(test, week_ratio_lb, on = [customer_id_col, \"Dayofweek\"], how = \"left\")"
   ]
  },
  {
   "cell_type": "code",
   "execution_count": 60,
   "metadata": {},
   "outputs": [
    {
     "data": {
      "text/plain": [
       "Index(['ORDER_CREATION_DATE', 'CONVERTED_ORDER_CURRENCY', 'CUSTOMER',\n",
       "       'originalCustomer', 'CUSTOMER_ENCODED', 'Last-1day_Sales',\n",
       "       'Last-2day_Sales', 'Last-3day_Sales', 'Last-4day_Sales',\n",
       "       'Last-5day_Sales', 'Last-6day_Sales', 'Last-7day_Sales',\n",
       "       'Last-8day_Sales', 'Last-9day_Sales', 'Last-10day_Sales',\n",
       "       'Last-11day_Sales', 'Last-12day_Sales', 'Last-13day_Sales',\n",
       "       'Last-14day_Sales', 'Last-15day_Sales', 'Last-16day_Sales',\n",
       "       'Last-17day_Sales', 'Last-18day_Sales', 'Last-19day_Sales',\n",
       "       'Last-20day_Sales', 'Last-21day_Sales', 'Last-22day_Sales',\n",
       "       'Last-23day_Sales', 'Last-24day_Sales', 'Last-25day_Sales',\n",
       "       'Last-26day_Sales', 'Last-27day_Sales', 'Last-28day_Sales',\n",
       "       'Last-29day_Sales', 'Last-30day_Sales', 'Last-1day_Diff',\n",
       "       'Last-2day_Diff', 'Last-3day_Diff', 'Last-4day_Diff', 'Last-5day_Diff',\n",
       "       'Last-6day_Diff', 'Last-7day_Diff', 'Last-8day_Diff', 'Last-9day_Diff',\n",
       "       'Last-10day_Diff', 'Last-11day_Diff', 'Last-12day_Diff',\n",
       "       'Last-13day_Diff', 'Last-14day_Diff', 'Last-15day_Diff',\n",
       "       'Last-16day_Diff', 'Last-17day_Diff', 'Last-18day_Diff',\n",
       "       'Last-19day_Diff', 'Last-20day_Diff', 'Last-21day_Diff',\n",
       "       'Last-22day_Diff', 'Last-23day_Diff', 'Last-24day_Diff',\n",
       "       'Last-25day_Diff', 'Last-26day_Diff', 'Last-27day_Diff',\n",
       "       'Last-28day_Diff', 'Last-29day_Diff', 'Last-30day_Diff', 'Year',\n",
       "       'Month', 'Week', 'Day', 'Dayofweek', 'Dayofyear', 'Is_month_end',\n",
       "       'Is_month_start', 'Is_quarter_end', 'Is_quarter_start', 'Is_year_end',\n",
       "       'Is_year_start', 'MA_3', 'MA_4', 'MA_5', 'MA_6', 'MA_7', 'MA_8', 'MA_9',\n",
       "       'expMA', 'expMA7', 'expMA30', 'Customer_week_lag_1',\n",
       "       'Customer_week_lag_2', 'Customer_week_lag_3', 'Customer_week_lag_4',\n",
       "       'Customer_Month_lag_1', 'Customer_Month_lag_2', 'Customer_year_lag_1',\n",
       "       'weekday_ratio_sum', 'weekday_ratio_cnt'],\n",
       "      dtype='object')"
      ]
     },
     "execution_count": 60,
     "metadata": {},
     "output_type": "execute_result"
    }
   ],
   "source": [
    "train.columns"
   ]
  },
  {
   "cell_type": "code",
   "execution_count": 61,
   "metadata": {},
   "outputs": [
    {
     "data": {
      "text/plain": [
       "96"
      ]
     },
     "execution_count": 61,
     "metadata": {},
     "output_type": "execute_result"
    }
   ],
   "source": [
    "train.shape[1]"
   ]
  },
  {
   "cell_type": "code",
   "execution_count": 62,
   "metadata": {},
   "outputs": [
    {
     "data": {
      "text/plain": [
       "Index(['ORDER_CREATION_DATE', 'CONVERTED_ORDER_CURRENCY', 'CUSTOMER',\n",
       "       'originalCustomer', 'CUSTOMER_ENCODED', 'Last-1day_Sales',\n",
       "       'Last-2day_Sales', 'Last-3day_Sales', 'Last-4day_Sales',\n",
       "       'Last-5day_Sales', 'Last-6day_Sales', 'Last-7day_Sales',\n",
       "       'Last-8day_Sales', 'Last-9day_Sales', 'Last-10day_Sales',\n",
       "       'Last-11day_Sales', 'Last-12day_Sales', 'Last-13day_Sales',\n",
       "       'Last-14day_Sales', 'Last-15day_Sales', 'Last-16day_Sales',\n",
       "       'Last-17day_Sales', 'Last-18day_Sales', 'Last-19day_Sales',\n",
       "       'Last-20day_Sales', 'Last-21day_Sales', 'Last-22day_Sales',\n",
       "       'Last-23day_Sales', 'Last-24day_Sales', 'Last-25day_Sales',\n",
       "       'Last-26day_Sales', 'Last-27day_Sales', 'Last-28day_Sales',\n",
       "       'Last-29day_Sales', 'Last-30day_Sales', 'Last-1day_Diff',\n",
       "       'Last-2day_Diff', 'Last-3day_Diff', 'Last-4day_Diff', 'Last-5day_Diff',\n",
       "       'Last-6day_Diff', 'Last-7day_Diff', 'Last-8day_Diff', 'Last-9day_Diff',\n",
       "       'Last-10day_Diff', 'Last-11day_Diff', 'Last-12day_Diff',\n",
       "       'Last-13day_Diff', 'Last-14day_Diff', 'Last-15day_Diff',\n",
       "       'Last-16day_Diff', 'Last-17day_Diff', 'Last-18day_Diff',\n",
       "       'Last-19day_Diff', 'Last-20day_Diff', 'Last-21day_Diff',\n",
       "       'Last-22day_Diff', 'Last-23day_Diff', 'Last-24day_Diff',\n",
       "       'Last-25day_Diff', 'Last-26day_Diff', 'Last-27day_Diff',\n",
       "       'Last-28day_Diff', 'Last-29day_Diff', 'Last-30day_Diff', 'Year',\n",
       "       'Month', 'Week', 'Day', 'Dayofweek', 'Dayofyear', 'Is_month_end',\n",
       "       'Is_month_start', 'Is_quarter_end', 'Is_quarter_start', 'Is_year_end',\n",
       "       'Is_year_start', 'MA_3', 'MA_4', 'MA_5', 'MA_6', 'MA_7', 'MA_8', 'MA_9',\n",
       "       'expMA', 'expMA7', 'expMA30', 'Customer_week_lag_1',\n",
       "       'Customer_week_lag_2', 'Customer_week_lag_3', 'Customer_week_lag_4',\n",
       "       'Customer_Month_lag_1', 'Customer_Month_lag_2', 'Customer_year_lag_1',\n",
       "       'weekday_ratio_sum', 'weekday_ratio_cnt'],\n",
       "      dtype='object')"
      ]
     },
     "execution_count": 62,
     "metadata": {},
     "output_type": "execute_result"
    }
   ],
   "source": [
    "test.columns"
   ]
  },
  {
   "cell_type": "code",
   "execution_count": 63,
   "metadata": {},
   "outputs": [
    {
     "data": {
      "text/plain": [
       "96"
      ]
     },
     "execution_count": 63,
     "metadata": {},
     "output_type": "execute_result"
    }
   ],
   "source": [
    "test.shape[1]"
   ]
  },
  {
   "cell_type": "markdown",
   "metadata": {},
   "source": [
    "### Feature Selection"
   ]
  },
  {
   "cell_type": "code",
   "execution_count": 64,
   "metadata": {},
   "outputs": [],
   "source": [
    "features = ['Last-1day_Sales',\n",
    " 'Last-2day_Sales',\n",
    " 'Last-3day_Sales',\n",
    " 'Last-4day_Sales',\n",
    " 'Last-5day_Sales',\n",
    " 'Last-6day_Sales',\n",
    " 'Last-7day_Sales',\n",
    " 'Last-8day_Sales',\n",
    " 'Last-9day_Sales',\n",
    " 'Last-10day_Sales',\n",
    " 'Last-11day_Sales',\n",
    " 'Last-12day_Sales',\n",
    " 'Last-13day_Sales',\n",
    " 'Last-14day_Sales',\n",
    " 'Last-15day_Sales',\n",
    " 'Last-16day_Sales',\n",
    " 'Last-17day_Sales',\n",
    " 'Last-18day_Sales',\n",
    " 'Last-19day_Sales',\n",
    " 'Last-20day_Sales',\n",
    " 'Last-21day_Sales',\n",
    " 'Last-22day_Sales',\n",
    " 'Last-23day_Sales',\n",
    " 'Last-24day_Sales',\n",
    " 'Last-25day_Sales',\n",
    " 'Last-26day_Sales',\n",
    " 'Last-27day_Sales',\n",
    " 'Last-28day_Sales',\n",
    " 'Last-29day_Sales',\n",
    " 'Last-30day_Sales',\n",
    " 'Last-1day_Diff',\n",
    " 'Last-2day_Diff',\n",
    " 'Last-3day_Diff',\n",
    " 'Last-4day_Diff',\n",
    " 'Last-5day_Diff',\n",
    " 'Last-6day_Diff',\n",
    " 'Last-7day_Diff',\n",
    " 'Last-8day_Diff',\n",
    " 'Last-9day_Diff',\n",
    " 'Last-10day_Diff',\n",
    " 'Last-11day_Diff',\n",
    " 'Last-12day_Diff',\n",
    " 'Last-13day_Diff',\n",
    " 'Last-14day_Diff',\n",
    " 'Last-15day_Diff',\n",
    " 'Last-16day_Diff',\n",
    " 'Last-17day_Diff',\n",
    " 'Last-18day_Diff',\n",
    " 'Last-19day_Diff',\n",
    " 'Last-20day_Diff',\n",
    " 'Last-21day_Diff',\n",
    " 'Last-22day_Diff',\n",
    " 'Last-23day_Diff',\n",
    " 'Last-24day_Diff',\n",
    " 'Last-25day_Diff',\n",
    " 'Last-26day_Diff',\n",
    " 'Last-27day_Diff',\n",
    " 'Last-28day_Diff',\n",
    " 'Last-29day_Diff',\n",
    " 'Last-30day_Diff',\n",
    " 'Year',\n",
    " 'Month',\n",
    " 'Week',\n",
    " 'Day',\n",
    " 'Dayofweek',\n",
    " 'Dayofyear',\n",
    " 'Is_month_end',\n",
    " 'Is_month_start',\n",
    " 'Is_quarter_end',\n",
    " 'Is_quarter_start',\n",
    " 'Is_year_end',\n",
    " 'Is_year_start',\n",
    " 'MA_3',\n",
    " 'MA_4',\n",
    " 'MA_5',\n",
    " 'MA_6',\n",
    " 'MA_7',\n",
    " 'expMA',\n",
    " 'expMA7',\n",
    "]"
   ]
  },
  {
   "cell_type": "markdown",
   "metadata": {},
   "source": [
    "### Data Splitting"
   ]
  },
  {
   "cell_type": "code",
   "execution_count": 65,
   "metadata": {},
   "outputs": [],
   "source": [
    "X_train, y_train = train[features], train[net_amount_col]\n",
    "X_test, y_test = test[features], test[net_amount_col]"
   ]
  },
  {
   "cell_type": "markdown",
   "metadata": {},
   "source": [
    "### Modelling"
   ]
  },
  {
   "cell_type": "code",
   "execution_count": 66,
   "metadata": {},
   "outputs": [],
   "source": [
    "import lightgbm as lgb\n",
    "model = lgb.LGBMRegressor(\n",
    "                            objective='regression',\n",
    "                            n_estimators = 200,\n",
    "                            colsample_bytree = 0.9,\n",
    "                            max_bin = 55,\n",
    "                            max_depth = -1,\n",
    "                            num_leaves = 7,\n",
    "                            n_jobs = -1\n",
    "\n",
    "                         )\n",
    "model.fit(X_train, np.log1p(y_train))\n",
    "\n",
    "prediction_ = np.expm1(model.predict(X_test))\n",
    "\n",
    "test['pred'] = prediction_"
   ]
  },
  {
   "cell_type": "code",
   "execution_count": 67,
   "metadata": {},
   "outputs": [
    {
     "data": {
      "text/plain": [
       "0      674.977422\n",
       "1        8.358144\n",
       "2     9276.893632\n",
       "3       53.646535\n",
       "4       70.015199\n",
       "5      137.506300\n",
       "6      897.493895\n",
       "7    13286.943677\n",
       "8      305.215141\n",
       "9      559.030451\n",
       "Name: pred, dtype: float64"
      ]
     },
     "execution_count": 67,
     "metadata": {},
     "output_type": "execute_result"
    }
   ],
   "source": [
    "test['pred'].head(10)"
   ]
  },
  {
   "cell_type": "code",
   "execution_count": 68,
   "metadata": {},
   "outputs": [
    {
     "data": {
      "text/plain": [
       "<matplotlib.collections.PathCollection at 0x2628fb63a90>"
      ]
     },
     "execution_count": 68,
     "metadata": {},
     "output_type": "execute_result"
    },
    {
     "data": {
      "image/png": "[encoded data removed]",
      "text/plain": [
       "<Figure size 1440x720 with 1 Axes>"
      ]
     },
     "metadata": {},
     "output_type": "display_data"
    }
   ],
   "source": [
    "plt.scatter(test[test[net_amount_col]>0][net_amount_col], test[test[net_amount_col]>0]['pred'])"
   ]
  },
  {
   "cell_type": "code",
   "execution_count": 69,
   "metadata": {},
   "outputs": [
    {
     "data": {
      "text/plain": [
       "42391.80934567742"
      ]
     },
     "execution_count": 69,
     "metadata": {},
     "output_type": "execute_result"
    }
   ],
   "source": [
    "from sklearn.metrics import mean_squared_error\n",
    "\n",
    "np.sqrt(mean_squared_error(test[net_amount_col], test['pred']))"
   ]
  },
  {
   "cell_type": "code",
   "execution_count": 70,
   "metadata": {},
   "outputs": [
    {
     "data": {
      "text/plain": [
       "48275.53052588032"
      ]
     },
     "execution_count": 70,
     "metadata": {},
     "output_type": "execute_result"
    }
   ],
   "source": [
    "np.sqrt(mean_squared_error(test[test[net_amount_col]>0][net_amount_col], test[test[net_amount_col]>0]['pred']))"
   ]
  },
  {
   "cell_type": "code",
   "execution_count": 71,
   "metadata": {},
   "outputs": [
    {
     "data": {
      "text/plain": [
       "[<matplotlib.lines.Line2D at 0x26287e8f820>]"
      ]
     },
     "execution_count": 71,
     "metadata": {},
     "output_type": "execute_result"
    },
    {
     "data": {
      "image/png": "[encoded data removed]",
      "text/plain": [
       "<Figure size 1440x720 with 1 Axes>"
      ]
     },
     "metadata": {},
     "output_type": "display_data"
    }
   ],
   "source": [
    "tem = test[test[net_amount_col]>0][900:1000]\n",
    "plt.plot(tem[net_amount_col])\n",
    "plt.plot(tem['pred'])"
   ]
  },
  {
   "cell_type": "code",
   "execution_count": 72,
   "metadata": {},
   "outputs": [
    {
     "data": {
      "text/plain": [
       "<matplotlib.collections.PathCollection at 0x2628fc8fd90>"
      ]
     },
     "execution_count": 72,
     "metadata": {},
     "output_type": "execute_result"
    },
    {
     "data": {
      "image/png": "[encoded data removed]",
      "text/plain": [
       "<Figure size 1440x720 with 1 Axes>"
      ]
     },
     "metadata": {},
     "output_type": "display_data"
    }
   ],
   "source": [
    "plt.scatter(tem.index, tem[net_amount_col])\n",
    "plt.scatter(tem.index, tem['pred'])"
   ]
  },
  {
   "cell_type": "code",
   "execution_count": 73,
   "metadata": {},
   "outputs": [
    {
     "data": {
      "text/html": [
       "<div>\n",
       "<style scoped>\n",
       "    .dataframe tbody tr th:only-of-type {\n",
       "        vertical-align: middle;\n",
       "    }\n",
       "\n",
       "    .dataframe tbody tr th {\n",
       "        vertical-align: top;\n",
       "    }\n",
       "\n",
       "    .dataframe thead th {\n",
       "        text-align: right;\n",
       "    }\n",
       "</style>\n",
       "<table border=\"1\" class=\"dataframe\">\n",
       "  <thead>\n",
       "    <tr style=\"text-align: right;\">\n",
       "      <th></th>\n",
       "      <th>CONVERTED_ORDER_CURRENCY</th>\n",
       "      <th>pred</th>\n",
       "      <th>error</th>\n",
       "    </tr>\n",
       "  </thead>\n",
       "  <tbody>\n",
       "    <tr>\n",
       "      <th>count</th>\n",
       "      <td>9.490000e+03</td>\n",
       "      <td>9490.000000</td>\n",
       "      <td>9.490000e+03</td>\n",
       "    </tr>\n",
       "    <tr>\n",
       "      <th>mean</th>\n",
       "      <td>1.497601e+04</td>\n",
       "      <td>4918.189307</td>\n",
       "      <td>1.005782e+04</td>\n",
       "    </tr>\n",
       "    <tr>\n",
       "      <th>std</th>\n",
       "      <td>4.299925e+04</td>\n",
       "      <td>12204.532910</td>\n",
       "      <td>4.118355e+04</td>\n",
       "    </tr>\n",
       "    <tr>\n",
       "      <th>min</th>\n",
       "      <td>-5.820766e-11</td>\n",
       "      <td>-0.545820</td>\n",
       "      <td>-1.103107e+05</td>\n",
       "    </tr>\n",
       "    <tr>\n",
       "      <th>25%</th>\n",
       "      <td>7.275958e-12</td>\n",
       "      <td>79.069732</td>\n",
       "      <td>-7.700262e+01</td>\n",
       "    </tr>\n",
       "    <tr>\n",
       "      <th>50%</th>\n",
       "      <td>4.518394e+03</td>\n",
       "      <td>676.548340</td>\n",
       "      <td>1.310017e+03</td>\n",
       "    </tr>\n",
       "    <tr>\n",
       "      <th>75%</th>\n",
       "      <td>1.624260e+04</td>\n",
       "      <td>3755.559698</td>\n",
       "      <td>1.073685e+04</td>\n",
       "    </tr>\n",
       "    <tr>\n",
       "      <th>max</th>\n",
       "      <td>1.555085e+06</td>\n",
       "      <td>159497.325000</td>\n",
       "      <td>1.554398e+06</td>\n",
       "    </tr>\n",
       "  </tbody>\n",
       "</table>\n",
       "</div>"
      ],
      "text/plain": [
       "       CONVERTED_ORDER_CURRENCY           pred         error\n",
       "count              9.490000e+03    9490.000000  9.490000e+03\n",
       "mean               1.497601e+04    4918.189307  1.005782e+04\n",
       "std                4.299925e+04   12204.532910  4.118355e+04\n",
       "min               -5.820766e-11      -0.545820 -1.103107e+05\n",
       "25%                7.275958e-12      79.069732 -7.700262e+01\n",
       "50%                4.518394e+03     676.548340  1.310017e+03\n",
       "75%                1.624260e+04    3755.559698  1.073685e+04\n",
       "max                1.555085e+06  159497.325000  1.554398e+06"
      ]
     },
     "execution_count": 73,
     "metadata": {},
     "output_type": "execute_result"
    }
   ],
   "source": [
    "test['error'] = test[net_amount_col] - test['pred']\n",
    "test[[net_amount_col,'pred','error']].describe()"
   ]
  },
  {
   "cell_type": "code",
   "execution_count": 74,
   "metadata": {},
   "outputs": [
    {
     "data": {
      "text/html": [
       "<div>\n",
       "<style scoped>\n",
       "    .dataframe tbody tr th:only-of-type {\n",
       "        vertical-align: middle;\n",
       "    }\n",
       "\n",
       "    .dataframe tbody tr th {\n",
       "        vertical-align: top;\n",
       "    }\n",
       "\n",
       "    .dataframe thead th {\n",
       "        text-align: right;\n",
       "    }\n",
       "</style>\n",
       "<table border=\"1\" class=\"dataframe\">\n",
       "  <thead>\n",
       "    <tr style=\"text-align: right;\">\n",
       "      <th></th>\n",
       "      <th>low</th>\n",
       "      <th>high</th>\n",
       "      <th>plus</th>\n",
       "      <th>neg</th>\n",
       "    </tr>\n",
       "  </thead>\n",
       "  <tbody>\n",
       "    <tr>\n",
       "      <th>0</th>\n",
       "      <td>0</td>\n",
       "      <td>500.0</td>\n",
       "      <td>318</td>\n",
       "      <td>2551</td>\n",
       "    </tr>\n",
       "    <tr>\n",
       "      <th>1</th>\n",
       "      <td>500</td>\n",
       "      <td>1000.0</td>\n",
       "      <td>249</td>\n",
       "      <td>301</td>\n",
       "    </tr>\n",
       "    <tr>\n",
       "      <th>2</th>\n",
       "      <td>1000</td>\n",
       "      <td>5000.0</td>\n",
       "      <td>1305</td>\n",
       "      <td>718</td>\n",
       "    </tr>\n",
       "    <tr>\n",
       "      <th>3</th>\n",
       "      <td>5000</td>\n",
       "      <td>10000.0</td>\n",
       "      <td>1077</td>\n",
       "      <td>201</td>\n",
       "    </tr>\n",
       "    <tr>\n",
       "      <th>4</th>\n",
       "      <td>10000</td>\n",
       "      <td>50000.0</td>\n",
       "      <td>2168</td>\n",
       "      <td>243</td>\n",
       "    </tr>\n",
       "    <tr>\n",
       "      <th>5</th>\n",
       "      <td>50000</td>\n",
       "      <td>100000.0</td>\n",
       "      <td>198</td>\n",
       "      <td>19</td>\n",
       "    </tr>\n",
       "    <tr>\n",
       "      <th>6</th>\n",
       "      <td>100000</td>\n",
       "      <td>1000000.0</td>\n",
       "      <td>138</td>\n",
       "      <td>1</td>\n",
       "    </tr>\n",
       "    <tr>\n",
       "      <th>7</th>\n",
       "      <td>1000000</td>\n",
       "      <td>inf</td>\n",
       "      <td>3</td>\n",
       "      <td>0</td>\n",
       "    </tr>\n",
       "  </tbody>\n",
       "</table>\n",
       "</div>"
      ],
      "text/plain": [
       "       low       high  plus   neg\n",
       "0        0      500.0   318  2551\n",
       "1      500     1000.0   249   301\n",
       "2     1000     5000.0  1305   718\n",
       "3     5000    10000.0  1077   201\n",
       "4    10000    50000.0  2168   243\n",
       "5    50000   100000.0   198    19\n",
       "6   100000  1000000.0   138     1\n",
       "7  1000000        inf     3     0"
      ]
     },
     "execution_count": 74,
     "metadata": {},
     "output_type": "execute_result"
    }
   ],
   "source": [
    "b = [[0, 500, 0, 0], [500, 1000, 0, 0],[1000, 5000, 0, 0],[5000, 10000, 0, 0],  [10000, 50000,0, 0],[50000,100000, 0, 0],[100000, 1000000, 0, 0], [1000000, np.inf, 0, 0]]\n",
    "for t in test['error']:\n",
    "    for l in b:\n",
    "        if (t>l[0]) & (t<l[1]): l[2]+=1\n",
    "        elif (t<-l[0]) & (t>-l[1]): l[3]+=1\n",
    "pd.DataFrame(b, columns = ['low','high','plus', 'neg'])"
   ]
  },
  {
   "cell_type": "code",
   "execution_count": 75,
   "metadata": {},
   "outputs": [
    {
     "data": {
      "text/html": [
       "<div>\n",
       "<style scoped>\n",
       "    .dataframe tbody tr th:only-of-type {\n",
       "        vertical-align: middle;\n",
       "    }\n",
       "\n",
       "    .dataframe tbody tr th {\n",
       "        vertical-align: top;\n",
       "    }\n",
       "\n",
       "    .dataframe thead th {\n",
       "        text-align: right;\n",
       "    }\n",
       "</style>\n",
       "<table border=\"1\" class=\"dataframe\">\n",
       "  <thead>\n",
       "    <tr style=\"text-align: right;\">\n",
       "      <th></th>\n",
       "      <th>low</th>\n",
       "      <th>high</th>\n",
       "      <th>count</th>\n",
       "    </tr>\n",
       "  </thead>\n",
       "  <tbody>\n",
       "    <tr>\n",
       "      <th>0</th>\n",
       "      <td>0</td>\n",
       "      <td>500.0</td>\n",
       "      <td>318</td>\n",
       "    </tr>\n",
       "    <tr>\n",
       "      <th>1</th>\n",
       "      <td>500</td>\n",
       "      <td>1000.0</td>\n",
       "      <td>249</td>\n",
       "    </tr>\n",
       "    <tr>\n",
       "      <th>2</th>\n",
       "      <td>1000</td>\n",
       "      <td>5000.0</td>\n",
       "      <td>1305</td>\n",
       "    </tr>\n",
       "    <tr>\n",
       "      <th>3</th>\n",
       "      <td>5000</td>\n",
       "      <td>10000.0</td>\n",
       "      <td>1077</td>\n",
       "    </tr>\n",
       "    <tr>\n",
       "      <th>4</th>\n",
       "      <td>10000</td>\n",
       "      <td>100000.0</td>\n",
       "      <td>2366</td>\n",
       "    </tr>\n",
       "    <tr>\n",
       "      <th>5</th>\n",
       "      <td>100000</td>\n",
       "      <td>1000000.0</td>\n",
       "      <td>138</td>\n",
       "    </tr>\n",
       "    <tr>\n",
       "      <th>6</th>\n",
       "      <td>1000000</td>\n",
       "      <td>inf</td>\n",
       "      <td>3</td>\n",
       "    </tr>\n",
       "  </tbody>\n",
       "</table>\n",
       "</div>"
      ],
      "text/plain": [
       "       low       high  count\n",
       "0        0      500.0    318\n",
       "1      500     1000.0    249\n",
       "2     1000     5000.0   1305\n",
       "3     5000    10000.0   1077\n",
       "4    10000   100000.0   2366\n",
       "5   100000  1000000.0    138\n",
       "6  1000000        inf      3"
      ]
     },
     "execution_count": 75,
     "metadata": {},
     "output_type": "execute_result"
    }
   ],
   "source": [
    "b = [[0, 500, 0], [500, 1000, 0],[1000, 5000, 0],[5000, 10000, 0], [10000, 100000, 0], [100000, 1000000, 0], [1000000, np.inf, 0]]\n",
    "for t in test['error']:\n",
    "    for l in b:\n",
    "        if (t>l[0]) & (t<l[1]): l[2]+=1\n",
    "\n",
    "pd.DataFrame(b, columns = ['low','high','count'])"
   ]
  },
  {
   "cell_type": "code",
   "execution_count": 76,
   "metadata": {},
   "outputs": [
    {
     "data": {
      "text/html": [
       "<div>\n",
       "<style scoped>\n",
       "    .dataframe tbody tr th:only-of-type {\n",
       "        vertical-align: middle;\n",
       "    }\n",
       "\n",
       "    .dataframe tbody tr th {\n",
       "        vertical-align: top;\n",
       "    }\n",
       "\n",
       "    .dataframe thead th {\n",
       "        text-align: right;\n",
       "    }\n",
       "</style>\n",
       "<table border=\"1\" class=\"dataframe\">\n",
       "  <thead>\n",
       "    <tr style=\"text-align: right;\">\n",
       "      <th></th>\n",
       "      <th>CONVERTED_ORDER_CURRENCY</th>\n",
       "      <th>pred</th>\n",
       "      <th>error</th>\n",
       "    </tr>\n",
       "  </thead>\n",
       "  <tbody>\n",
       "    <tr>\n",
       "      <th>8804</th>\n",
       "      <td>4.872073e+03</td>\n",
       "      <td>115182.781817</td>\n",
       "      <td>-1.103107e+05</td>\n",
       "    </tr>\n",
       "    <tr>\n",
       "      <th>7504</th>\n",
       "      <td>3.407368e+04</td>\n",
       "      <td>128267.322250</td>\n",
       "      <td>-9.419364e+04</td>\n",
       "    </tr>\n",
       "    <tr>\n",
       "      <th>9488</th>\n",
       "      <td>3.281064e+04</td>\n",
       "      <td>123525.895534</td>\n",
       "      <td>-9.071526e+04</td>\n",
       "    </tr>\n",
       "    <tr>\n",
       "      <th>8817</th>\n",
       "      <td>5.040194e+04</td>\n",
       "      <td>136407.311759</td>\n",
       "      <td>-8.600537e+04</td>\n",
       "    </tr>\n",
       "    <tr>\n",
       "      <th>8650</th>\n",
       "      <td>1.943133e+04</td>\n",
       "      <td>103437.933156</td>\n",
       "      <td>-8.400660e+04</td>\n",
       "    </tr>\n",
       "    <tr>\n",
       "      <th>...</th>\n",
       "      <td>...</td>\n",
       "      <td>...</td>\n",
       "      <td>...</td>\n",
       "    </tr>\n",
       "    <tr>\n",
       "      <th>8611</th>\n",
       "      <td>8.883347e+05</td>\n",
       "      <td>67148.423677</td>\n",
       "      <td>8.211863e+05</td>\n",
       "    </tr>\n",
       "    <tr>\n",
       "      <th>1923</th>\n",
       "      <td>8.312983e+05</td>\n",
       "      <td>6.879592</td>\n",
       "      <td>8.312914e+05</td>\n",
       "    </tr>\n",
       "    <tr>\n",
       "      <th>7512</th>\n",
       "      <td>1.035354e+06</td>\n",
       "      <td>196.106142</td>\n",
       "      <td>1.035158e+06</td>\n",
       "    </tr>\n",
       "    <tr>\n",
       "      <th>2858</th>\n",
       "      <td>1.438272e+06</td>\n",
       "      <td>13.241214</td>\n",
       "      <td>1.438258e+06</td>\n",
       "    </tr>\n",
       "    <tr>\n",
       "      <th>8659</th>\n",
       "      <td>1.555085e+06</td>\n",
       "      <td>687.341601</td>\n",
       "      <td>1.554398e+06</td>\n",
       "    </tr>\n",
       "  </tbody>\n",
       "</table>\n",
       "<p>9490 rows × 3 columns</p>\n",
       "</div>"
      ],
      "text/plain": [
       "      CONVERTED_ORDER_CURRENCY           pred         error\n",
       "8804              4.872073e+03  115182.781817 -1.103107e+05\n",
       "7504              3.407368e+04  128267.322250 -9.419364e+04\n",
       "9488              3.281064e+04  123525.895534 -9.071526e+04\n",
       "8817              5.040194e+04  136407.311759 -8.600537e+04\n",
       "8650              1.943133e+04  103437.933156 -8.400660e+04\n",
       "...                        ...            ...           ...\n",
       "8611              8.883347e+05   67148.423677  8.211863e+05\n",
       "1923              8.312983e+05       6.879592  8.312914e+05\n",
       "7512              1.035354e+06     196.106142  1.035158e+06\n",
       "2858              1.438272e+06      13.241214  1.438258e+06\n",
       "8659              1.555085e+06     687.341601  1.554398e+06\n",
       "\n",
       "[9490 rows x 3 columns]"
      ]
     },
     "execution_count": 76,
     "metadata": {},
     "output_type": "execute_result"
    }
   ],
   "source": [
    "test[[net_amount_col,'pred','error']].sort_values(by = 'error')"
   ]
  },
  {
   "cell_type": "code",
   "execution_count": null,
   "metadata": {},
   "outputs": [],
   "source": []
  }
 ],
 "metadata": {
  "kernelspec": {
   "display_name": "Python 3 (ipykernel)",
   "language": "python",
   "name": "python3"
  },
  "language_info": {
   "codemirror_mode": {
    "name": "ipython",
    "version": 3
   },
   "file_extension": ".py",
   "mimetype": "text/x-python",
   "name": "python",
   "nbconvert_exporter": "python",
   "pygments_lexer": "ipython3",
   "version": "3.9.13"
  }
 },
 "nbformat": 4,
 "nbformat_minor": 4
}
